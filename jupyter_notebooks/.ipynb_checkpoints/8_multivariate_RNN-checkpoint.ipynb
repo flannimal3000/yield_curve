{
 "cells": [
  {
   "cell_type": "markdown",
   "metadata": {},
   "source": [
    "## Recurrent Neural Network (LSTM) | Multivariate"
   ]
  },
  {
   "cell_type": "raw",
   "metadata": {},
   "source": [
    "Training a recurrent neural net to predict a segment of the curve (30-year rate), using lagged data across multiple segments of the yield curve (multivariate).\n",
    "\n",
    "For illustration, set up with a [1] period prediction window, and [21] period historic data lag.  Model params/choices include a single hidden layer (100 width) and 250 training epochs, with 0.20 dropout and a weight regularization penalty of 0.01.  The multivariate approach is able to outperform a univariate LSTM or AR/ARIMA models if calibrated properly."
   ]
  },
  {
   "cell_type": "code",
   "execution_count": 1,
   "metadata": {},
   "outputs": [
    {
     "name": "stdout",
     "output_type": "stream",
     "text": [
      "versions\n",
      "------------\n",
      "pandas:  0.20.3\n",
      "numpy:  1.13.3\n",
      "mpl:  2.0.2\n"
     ]
    }
   ],
   "source": [
    "# general import environment\n",
    "print('versions')\n",
    "print ('------------')\n",
    "import pandas as pd\n",
    "print('pandas: ', pd.__version__)\n",
    "pd.set_option('display.max_columns', None)\n",
    "import numpy as np\n",
    "print('numpy: ', np.__version__)\n",
    "import time as time\n",
    "import datetime\n",
    "import matplotlib as mpl\n",
    "import matplotlib.pyplot as plt\n",
    "print('mpl: ', mpl.__version__)\n",
    "%matplotlib inline\n",
    "\n",
    "from sklearn.metrics import mean_squared_error"
   ]
  },
  {
   "cell_type": "code",
   "execution_count": 2,
   "metadata": {
    "collapsed": true
   },
   "outputs": [],
   "source": [
    "# anchor random seed (numpy)\n",
    "np.random.seed(1)"
   ]
  },
  {
   "cell_type": "markdown",
   "metadata": {},
   "source": [
    "### load cached data"
   ]
  },
  {
   "cell_type": "code",
   "execution_count": 3,
   "metadata": {
    "collapsed": true
   },
   "outputs": [],
   "source": [
    "#### load cached data\n",
    "temporal_group = 'monthly'\n",
    "df = pd.read_csv('../data/historical_data_{0}.csv'.format(temporal_group))\n",
    "\n",
    "# force convert string dates to dt objects & set index\n",
    "df['date'] = pd.to_datetime(df['date'])\n",
    "df = df.set_index('date')"
   ]
  },
  {
   "cell_type": "code",
   "execution_count": 4,
   "metadata": {
    "collapsed": true
   },
   "outputs": [],
   "source": [
    "# dropping front end of curve, dampens predictive power\n",
    "drop_list = ['FEDFUNDS','DGS1MO','DGS3MO','DGS6MO','DGS1','DGS2','DGS3']\n",
    "for drop_x in drop_list:\n",
    "    df.drop(drop_x, axis=1, inplace=True)"
   ]
  },
  {
   "cell_type": "code",
   "execution_count": 5,
   "metadata": {},
   "outputs": [
    {
     "name": "stdout",
     "output_type": "stream",
     "text": [
      "['DGS5', 'DGS7', 'DGS10', 'DGS20', 'DGS30']\n"
     ]
    }
   ],
   "source": [
    "# set list of columns/points on yield curve used\n",
    "col_list = list(df.columns.values)\n",
    "print(col_list)"
   ]
  },
  {
   "cell_type": "markdown",
   "metadata": {},
   "source": [
    "### model params"
   ]
  },
  {
   "cell_type": "code",
   "execution_count": 6,
   "metadata": {
    "collapsed": true
   },
   "outputs": [],
   "source": [
    "# set lookback/forward windows for lagged timeseries\n",
    "lookforward_window = 1\n",
    "lookback_window = 21\n",
    "\n",
    "# specify network params\n",
    "epoch_num_param = 250\n",
    "batch_size_param = 20\n",
    "layer1_num_neurons_param = 100\n",
    "dropout_pct_1 = 0.20\n",
    "l2_weight_regularization_param = 0.01"
   ]
  },
  {
   "cell_type": "code",
   "execution_count": 7,
   "metadata": {
    "collapsed": true
   },
   "outputs": [],
   "source": [
    "# identify single column to target\n",
    "target_column = 'DGS30'\n",
    "col_list.remove(target_column)"
   ]
  },
  {
   "cell_type": "code",
   "execution_count": 8,
   "metadata": {
    "collapsed": true
   },
   "outputs": [],
   "source": [
    "# generic title list, used for renaming/reordering columns after lag/lead feature generation\n",
    "rename_list = ['aa','bb','cc','dd','ee','ff','gg','hh','ii','jj','kk','ll','mm','nn','oo','pp','qq','rr','ss']"
   ]
  },
  {
   "cell_type": "markdown",
   "metadata": {},
   "source": [
    "### preprocess data"
   ]
  },
  {
   "cell_type": "raw",
   "metadata": {},
   "source": [
    "preprocessing in df format, not np arrays | more flexibility to map/manipulate data\n",
    "create lagged features/targets"
   ]
  },
  {
   "cell_type": "code",
   "execution_count": 9,
   "metadata": {
    "collapsed": true
   },
   "outputs": [],
   "source": [
    "# separate out target column, rename columns w/ generic title  |  [target = 't']\n",
    "base_col = 't'\n",
    "df.rename(columns={target_column: base_col}, inplace=True)"
   ]
  },
  {
   "cell_type": "code",
   "execution_count": 10,
   "metadata": {},
   "outputs": [
    {
     "data": {
      "image/png": "[encoded data removed]",
      "text/plain": [
       "<matplotlib.figure.Figure at 0x10d5869b0>"
      ]
     },
     "metadata": {},
     "output_type": "display_data"
    }
   ],
   "source": [
    "# examine rolling volatility\n",
    "plt.plot(df[base_col].rolling(window=12).std(),color='green',lw=2.0,alpha=0.4)\n",
    "plt.plot(df[base_col].rolling(window=3).std(),color='purple',lw=0.75)\n",
    "plt.show;"
   ]
  },
  {
   "cell_type": "code",
   "execution_count": 11,
   "metadata": {
    "collapsed": true
   },
   "outputs": [],
   "source": [
    "# rename non-target columns\n",
    "for col_x in np.arange(len(col_list)):\n",
    "    df.rename(columns={col_list[col_x]: rename_list[col_x]}, inplace=True)"
   ]
  },
  {
   "cell_type": "code",
   "execution_count": 12,
   "metadata": {
    "collapsed": true
   },
   "outputs": [],
   "source": [
    "# create list of columns to lag\n",
    "lag_list = list(df.columns.values)"
   ]
  },
  {
   "cell_type": "code",
   "execution_count": 13,
   "metadata": {
    "collapsed": true
   },
   "outputs": [],
   "source": [
    "# create target vector(s) | lookforward window\n",
    "for iter_x in np.arange(lookforward_window)+1:\n",
    "    df['y+{0}'.format(str(iter_x))] = df[base_col].shift(-iter_x)"
   ]
  },
  {
   "cell_type": "code",
   "execution_count": 14,
   "metadata": {},
   "outputs": [
    {
     "name": "stdout",
     "output_type": "stream",
     "text": [
      "(141, 6)\n"
     ]
    }
   ],
   "source": [
    "print(df.shape)\n",
    "# df.tail(2)"
   ]
  },
  {
   "cell_type": "code",
   "execution_count": 15,
   "metadata": {},
   "outputs": [
    {
     "name": "stdout",
     "output_type": "stream",
     "text": [
      "(141, 6)\n",
      "(141, 111)\n"
     ]
    }
   ],
   "source": [
    "# generate lag'd features | 1st layer iterate over target columns, 2nd layer lags up to specified window limit\n",
    "print(df.shape)\n",
    "for col_x in lag_list:\n",
    "    # create lagged autoregressive features\n",
    "    for iter_x in np.arange(lookback_window)+1:\n",
    "        df['{0}-{1}'.format(col_x,   str(iter_x).zfill(2)      )] = df[col_x].shift(iter_x)\n",
    "print(df.shape)"
   ]
  },
  {
   "cell_type": "code",
   "execution_count": 16,
   "metadata": {
    "collapsed": true
   },
   "outputs": [],
   "source": [
    "# change column order | target vector(s) first for model consistency\n",
    "col_list = list(df.columns.values)\n",
    "lookforward_cols = []\n",
    "for iter_x in col_list:\n",
    "    if 'y' in iter_x:\n",
    "        lookforward_cols.append(iter_x)\n",
    "for iter_x in lookforward_cols:\n",
    "    col_list.remove(iter_x)\n",
    "col_list.sort()    \n",
    "\n",
    "#reverse lookforward window order to reverse sequential consistency  | lookforward_cols[::-1]\n",
    "col_list = lookforward_cols + col_list\n",
    "df = df[col_list].copy()"
   ]
  },
  {
   "cell_type": "code",
   "execution_count": 17,
   "metadata": {},
   "outputs": [
    {
     "data": {
      "text/html": [
       "<div>\n",
       "<style>\n",
       "    .dataframe thead tr:only-child th {\n",
       "        text-align: right;\n",
       "    }\n",
       "\n",
       "    .dataframe thead th {\n",
       "        text-align: left;\n",
       "    }\n",
       "\n",
       "    .dataframe tbody tr th {\n",
       "        vertical-align: top;\n",
       "    }\n",
       "</style>\n",
       "<table border=\"1\" class=\"dataframe\">\n",
       "  <thead>\n",
       "    <tr style=\"text-align: right;\">\n",
       "      <th></th>\n",
       "      <th>y+1</th>\n",
       "      <th>aa</th>\n",
       "      <th>aa-01</th>\n",
       "      <th>aa-02</th>\n",
       "      <th>aa-03</th>\n",
       "      <th>aa-04</th>\n",
       "      <th>aa-05</th>\n",
       "      <th>aa-06</th>\n",
       "      <th>aa-07</th>\n",
       "      <th>aa-08</th>\n",
       "      <th>aa-09</th>\n",
       "      <th>aa-10</th>\n",
       "      <th>aa-11</th>\n",
       "      <th>aa-12</th>\n",
       "      <th>aa-13</th>\n",
       "      <th>aa-14</th>\n",
       "      <th>aa-15</th>\n",
       "      <th>aa-16</th>\n",
       "      <th>aa-17</th>\n",
       "      <th>aa-18</th>\n",
       "      <th>aa-19</th>\n",
       "      <th>aa-20</th>\n",
       "      <th>aa-21</th>\n",
       "      <th>bb</th>\n",
       "      <th>bb-01</th>\n",
       "      <th>bb-02</th>\n",
       "      <th>bb-03</th>\n",
       "      <th>bb-04</th>\n",
       "      <th>bb-05</th>\n",
       "      <th>bb-06</th>\n",
       "      <th>bb-07</th>\n",
       "      <th>bb-08</th>\n",
       "      <th>bb-09</th>\n",
       "      <th>bb-10</th>\n",
       "      <th>bb-11</th>\n",
       "      <th>bb-12</th>\n",
       "      <th>bb-13</th>\n",
       "      <th>bb-14</th>\n",
       "      <th>bb-15</th>\n",
       "      <th>bb-16</th>\n",
       "      <th>bb-17</th>\n",
       "      <th>bb-18</th>\n",
       "      <th>bb-19</th>\n",
       "      <th>bb-20</th>\n",
       "      <th>bb-21</th>\n",
       "      <th>cc</th>\n",
       "      <th>cc-01</th>\n",
       "      <th>cc-02</th>\n",
       "      <th>cc-03</th>\n",
       "      <th>cc-04</th>\n",
       "      <th>cc-05</th>\n",
       "      <th>cc-06</th>\n",
       "      <th>cc-07</th>\n",
       "      <th>cc-08</th>\n",
       "      <th>cc-09</th>\n",
       "      <th>cc-10</th>\n",
       "      <th>cc-11</th>\n",
       "      <th>cc-12</th>\n",
       "      <th>cc-13</th>\n",
       "      <th>cc-14</th>\n",
       "      <th>cc-15</th>\n",
       "      <th>cc-16</th>\n",
       "      <th>cc-17</th>\n",
       "      <th>cc-18</th>\n",
       "      <th>cc-19</th>\n",
       "      <th>cc-20</th>\n",
       "      <th>cc-21</th>\n",
       "      <th>dd</th>\n",
       "      <th>dd-01</th>\n",
       "      <th>dd-02</th>\n",
       "      <th>dd-03</th>\n",
       "      <th>dd-04</th>\n",
       "      <th>dd-05</th>\n",
       "      <th>dd-06</th>\n",
       "      <th>dd-07</th>\n",
       "      <th>dd-08</th>\n",
       "      <th>dd-09</th>\n",
       "      <th>dd-10</th>\n",
       "      <th>dd-11</th>\n",
       "      <th>dd-12</th>\n",
       "      <th>dd-13</th>\n",
       "      <th>dd-14</th>\n",
       "      <th>dd-15</th>\n",
       "      <th>dd-16</th>\n",
       "      <th>dd-17</th>\n",
       "      <th>dd-18</th>\n",
       "      <th>dd-19</th>\n",
       "      <th>dd-20</th>\n",
       "      <th>dd-21</th>\n",
       "      <th>t</th>\n",
       "      <th>t-01</th>\n",
       "      <th>t-02</th>\n",
       "      <th>t-03</th>\n",
       "      <th>t-04</th>\n",
       "      <th>t-05</th>\n",
       "      <th>t-06</th>\n",
       "      <th>t-07</th>\n",
       "      <th>t-08</th>\n",
       "      <th>t-09</th>\n",
       "      <th>t-10</th>\n",
       "      <th>t-11</th>\n",
       "      <th>t-12</th>\n",
       "      <th>t-13</th>\n",
       "      <th>t-14</th>\n",
       "      <th>t-15</th>\n",
       "      <th>t-16</th>\n",
       "      <th>t-17</th>\n",
       "      <th>t-18</th>\n",
       "      <th>t-19</th>\n",
       "      <th>t-20</th>\n",
       "      <th>t-21</th>\n",
       "    </tr>\n",
       "    <tr>\n",
       "      <th>date</th>\n",
       "      <th></th>\n",
       "      <th></th>\n",
       "      <th></th>\n",
       "      <th></th>\n",
       "      <th></th>\n",
       "      <th></th>\n",
       "      <th></th>\n",
       "      <th></th>\n",
       "      <th></th>\n",
       "      <th></th>\n",
       "      <th></th>\n",
       "      <th></th>\n",
       "      <th></th>\n",
       "      <th></th>\n",
       "      <th></th>\n",
       "      <th></th>\n",
       "      <th></th>\n",
       "      <th></th>\n",
       "      <th></th>\n",
       "      <th></th>\n",
       "      <th></th>\n",
       "      <th></th>\n",
       "      <th></th>\n",
       "      <th></th>\n",
       "      <th></th>\n",
       "      <th></th>\n",
       "      <th></th>\n",
       "      <th></th>\n",
       "      <th></th>\n",
       "      <th></th>\n",
       "      <th></th>\n",
       "      <th></th>\n",
       "      <th></th>\n",
       "      <th></th>\n",
       "      <th></th>\n",
       "      <th></th>\n",
       "      <th></th>\n",
       "      <th></th>\n",
       "      <th></th>\n",
       "      <th></th>\n",
       "      <th></th>\n",
       "      <th></th>\n",
       "      <th></th>\n",
       "      <th></th>\n",
       "      <th></th>\n",
       "      <th></th>\n",
       "      <th></th>\n",
       "      <th></th>\n",
       "      <th></th>\n",
       "      <th></th>\n",
       "      <th></th>\n",
       "      <th></th>\n",
       "      <th></th>\n",
       "      <th></th>\n",
       "      <th></th>\n",
       "      <th></th>\n",
       "      <th></th>\n",
       "      <th></th>\n",
       "      <th></th>\n",
       "      <th></th>\n",
       "      <th></th>\n",
       "      <th></th>\n",
       "      <th></th>\n",
       "      <th></th>\n",
       "      <th></th>\n",
       "      <th></th>\n",
       "      <th></th>\n",
       "      <th></th>\n",
       "      <th></th>\n",
       "      <th></th>\n",
       "      <th></th>\n",
       "      <th></th>\n",
       "      <th></th>\n",
       "      <th></th>\n",
       "      <th></th>\n",
       "      <th></th>\n",
       "      <th></th>\n",
       "      <th></th>\n",
       "      <th></th>\n",
       "      <th></th>\n",
       "      <th></th>\n",
       "      <th></th>\n",
       "      <th></th>\n",
       "      <th></th>\n",
       "      <th></th>\n",
       "      <th></th>\n",
       "      <th></th>\n",
       "      <th></th>\n",
       "      <th></th>\n",
       "      <th></th>\n",
       "      <th></th>\n",
       "      <th></th>\n",
       "      <th></th>\n",
       "      <th></th>\n",
       "      <th></th>\n",
       "      <th></th>\n",
       "      <th></th>\n",
       "      <th></th>\n",
       "      <th></th>\n",
       "      <th></th>\n",
       "      <th></th>\n",
       "      <th></th>\n",
       "      <th></th>\n",
       "      <th></th>\n",
       "      <th></th>\n",
       "      <th></th>\n",
       "      <th></th>\n",
       "      <th></th>\n",
       "      <th></th>\n",
       "      <th></th>\n",
       "      <th></th>\n",
       "    </tr>\n",
       "  </thead>\n",
       "  <tbody>\n",
       "    <tr>\n",
       "      <th>2017-08-31</th>\n",
       "      <td>2.78</td>\n",
       "      <td>1.78</td>\n",
       "      <td>1.875</td>\n",
       "      <td>1.770</td>\n",
       "      <td>1.84</td>\n",
       "      <td>1.81</td>\n",
       "      <td>2.02</td>\n",
       "      <td>1.92</td>\n",
       "      <td>1.93</td>\n",
       "      <td>1.99</td>\n",
       "      <td>1.68</td>\n",
       "      <td>1.265</td>\n",
       "      <td>1.195</td>\n",
       "      <td>1.150</td>\n",
       "      <td>1.10</td>\n",
       "      <td>1.17</td>\n",
       "      <td>1.29</td>\n",
       "      <td>1.24</td>\n",
       "      <td>1.38</td>\n",
       "      <td>1.23</td>\n",
       "      <td>1.49</td>\n",
       "      <td>1.71</td>\n",
       "      <td>1.66</td>\n",
       "      <td>2.03</td>\n",
       "      <td>2.135</td>\n",
       "      <td>1.995</td>\n",
       "      <td>2.100</td>\n",
       "      <td>2.1</td>\n",
       "      <td>2.31</td>\n",
       "      <td>2.23</td>\n",
       "      <td>2.24</td>\n",
       "      <td>2.31</td>\n",
       "      <td>2.03</td>\n",
       "      <td>1.56</td>\n",
       "      <td>1.465</td>\n",
       "      <td>1.400</td>\n",
       "      <td>1.35</td>\n",
       "      <td>1.445</td>\n",
       "      <td>1.600</td>\n",
       "      <td>1.56</td>\n",
       "      <td>1.69</td>\n",
       "      <td>1.52</td>\n",
       "      <td>1.82</td>\n",
       "      <td>2.05</td>\n",
       "      <td>2.02</td>\n",
       "      <td>2.2</td>\n",
       "      <td>2.325</td>\n",
       "      <td>2.180</td>\n",
       "      <td>2.29</td>\n",
       "      <td>2.30</td>\n",
       "      <td>2.49</td>\n",
       "      <td>2.42</td>\n",
       "      <td>2.45</td>\n",
       "      <td>2.50</td>\n",
       "      <td>2.23</td>\n",
       "      <td>1.76</td>\n",
       "      <td>1.615</td>\n",
       "      <td>1.560</td>\n",
       "      <td>1.52</td>\n",
       "      <td>1.655</td>\n",
       "      <td>1.830</td>\n",
       "      <td>1.79</td>\n",
       "      <td>1.90</td>\n",
       "      <td>1.75</td>\n",
       "      <td>2.07</td>\n",
       "      <td>2.24</td>\n",
       "      <td>2.25</td>\n",
       "      <td>2.55</td>\n",
       "      <td>2.65</td>\n",
       "      <td>2.53</td>\n",
       "      <td>2.68</td>\n",
       "      <td>2.67</td>\n",
       "      <td>2.83</td>\n",
       "      <td>2.775</td>\n",
       "      <td>2.770</td>\n",
       "      <td>2.855</td>\n",
       "      <td>2.645</td>\n",
       "      <td>2.170</td>\n",
       "      <td>2.01</td>\n",
       "      <td>1.89</td>\n",
       "      <td>1.83</td>\n",
       "      <td>2.025</td>\n",
       "      <td>2.230</td>\n",
       "      <td>2.19</td>\n",
       "      <td>2.28</td>\n",
       "      <td>2.17</td>\n",
       "      <td>2.46</td>\n",
       "      <td>2.60</td>\n",
       "      <td>2.67</td>\n",
       "      <td>2.79</td>\n",
       "      <td>2.89</td>\n",
       "      <td>2.795</td>\n",
       "      <td>2.970</td>\n",
       "      <td>2.96</td>\n",
       "      <td>3.08</td>\n",
       "      <td>3.03</td>\n",
       "      <td>3.04</td>\n",
       "      <td>3.12</td>\n",
       "      <td>2.96</td>\n",
       "      <td>2.50</td>\n",
       "      <td>2.33</td>\n",
       "      <td>2.26</td>\n",
       "      <td>2.24</td>\n",
       "      <td>2.455</td>\n",
       "      <td>2.640</td>\n",
       "      <td>2.61</td>\n",
       "      <td>2.69</td>\n",
       "      <td>2.61</td>\n",
       "      <td>2.83</td>\n",
       "      <td>2.96</td>\n",
       "      <td>3.005</td>\n",
       "    </tr>\n",
       "    <tr>\n",
       "      <th>2017-09-30</th>\n",
       "      <td>2.87</td>\n",
       "      <td>1.81</td>\n",
       "      <td>1.780</td>\n",
       "      <td>1.875</td>\n",
       "      <td>1.77</td>\n",
       "      <td>1.84</td>\n",
       "      <td>1.81</td>\n",
       "      <td>2.02</td>\n",
       "      <td>1.92</td>\n",
       "      <td>1.93</td>\n",
       "      <td>1.99</td>\n",
       "      <td>1.680</td>\n",
       "      <td>1.265</td>\n",
       "      <td>1.195</td>\n",
       "      <td>1.15</td>\n",
       "      <td>1.10</td>\n",
       "      <td>1.17</td>\n",
       "      <td>1.29</td>\n",
       "      <td>1.24</td>\n",
       "      <td>1.38</td>\n",
       "      <td>1.23</td>\n",
       "      <td>1.49</td>\n",
       "      <td>1.71</td>\n",
       "      <td>2.04</td>\n",
       "      <td>2.030</td>\n",
       "      <td>2.135</td>\n",
       "      <td>1.995</td>\n",
       "      <td>2.1</td>\n",
       "      <td>2.10</td>\n",
       "      <td>2.31</td>\n",
       "      <td>2.23</td>\n",
       "      <td>2.24</td>\n",
       "      <td>2.31</td>\n",
       "      <td>2.03</td>\n",
       "      <td>1.560</td>\n",
       "      <td>1.465</td>\n",
       "      <td>1.40</td>\n",
       "      <td>1.350</td>\n",
       "      <td>1.445</td>\n",
       "      <td>1.60</td>\n",
       "      <td>1.56</td>\n",
       "      <td>1.69</td>\n",
       "      <td>1.52</td>\n",
       "      <td>1.82</td>\n",
       "      <td>2.05</td>\n",
       "      <td>2.2</td>\n",
       "      <td>2.200</td>\n",
       "      <td>2.325</td>\n",
       "      <td>2.18</td>\n",
       "      <td>2.29</td>\n",
       "      <td>2.30</td>\n",
       "      <td>2.49</td>\n",
       "      <td>2.42</td>\n",
       "      <td>2.45</td>\n",
       "      <td>2.50</td>\n",
       "      <td>2.23</td>\n",
       "      <td>1.760</td>\n",
       "      <td>1.615</td>\n",
       "      <td>1.56</td>\n",
       "      <td>1.520</td>\n",
       "      <td>1.655</td>\n",
       "      <td>1.83</td>\n",
       "      <td>1.79</td>\n",
       "      <td>1.90</td>\n",
       "      <td>1.75</td>\n",
       "      <td>2.07</td>\n",
       "      <td>2.24</td>\n",
       "      <td>2.53</td>\n",
       "      <td>2.55</td>\n",
       "      <td>2.65</td>\n",
       "      <td>2.53</td>\n",
       "      <td>2.68</td>\n",
       "      <td>2.67</td>\n",
       "      <td>2.830</td>\n",
       "      <td>2.775</td>\n",
       "      <td>2.770</td>\n",
       "      <td>2.855</td>\n",
       "      <td>2.645</td>\n",
       "      <td>2.17</td>\n",
       "      <td>2.01</td>\n",
       "      <td>1.89</td>\n",
       "      <td>1.830</td>\n",
       "      <td>2.025</td>\n",
       "      <td>2.23</td>\n",
       "      <td>2.19</td>\n",
       "      <td>2.28</td>\n",
       "      <td>2.17</td>\n",
       "      <td>2.46</td>\n",
       "      <td>2.60</td>\n",
       "      <td>2.78</td>\n",
       "      <td>2.79</td>\n",
       "      <td>2.890</td>\n",
       "      <td>2.795</td>\n",
       "      <td>2.97</td>\n",
       "      <td>2.96</td>\n",
       "      <td>3.08</td>\n",
       "      <td>3.03</td>\n",
       "      <td>3.04</td>\n",
       "      <td>3.12</td>\n",
       "      <td>2.96</td>\n",
       "      <td>2.50</td>\n",
       "      <td>2.33</td>\n",
       "      <td>2.26</td>\n",
       "      <td>2.240</td>\n",
       "      <td>2.455</td>\n",
       "      <td>2.64</td>\n",
       "      <td>2.61</td>\n",
       "      <td>2.69</td>\n",
       "      <td>2.61</td>\n",
       "      <td>2.83</td>\n",
       "      <td>2.960</td>\n",
       "    </tr>\n",
       "  </tbody>\n",
       "</table>\n",
       "</div>"
      ],
      "text/plain": [
       "             y+1    aa  aa-01  aa-02  aa-03  aa-04  aa-05  aa-06  aa-07  \\\n",
       "date                                                                      \n",
       "2017-08-31  2.78  1.78  1.875  1.770   1.84   1.81   2.02   1.92   1.93   \n",
       "2017-09-30  2.87  1.81  1.780  1.875   1.77   1.84   1.81   2.02   1.92   \n",
       "\n",
       "            aa-08  aa-09  aa-10  aa-11  aa-12  aa-13  aa-14  aa-15  aa-16  \\\n",
       "date                                                                        \n",
       "2017-08-31   1.99   1.68  1.265  1.195  1.150   1.10   1.17   1.29   1.24   \n",
       "2017-09-30   1.93   1.99  1.680  1.265  1.195   1.15   1.10   1.17   1.29   \n",
       "\n",
       "            aa-17  aa-18  aa-19  aa-20  aa-21    bb  bb-01  bb-02  bb-03  \\\n",
       "date                                                                       \n",
       "2017-08-31   1.38   1.23   1.49   1.71   1.66  2.03  2.135  1.995  2.100   \n",
       "2017-09-30   1.24   1.38   1.23   1.49   1.71  2.04  2.030  2.135  1.995   \n",
       "\n",
       "            bb-04  bb-05  bb-06  bb-07  bb-08  bb-09  bb-10  bb-11  bb-12  \\\n",
       "date                                                                        \n",
       "2017-08-31    2.1   2.31   2.23   2.24   2.31   2.03   1.56  1.465  1.400   \n",
       "2017-09-30    2.1   2.10   2.31   2.23   2.24   2.31   2.03  1.560  1.465   \n",
       "\n",
       "            bb-13  bb-14  bb-15  bb-16  bb-17  bb-18  bb-19  bb-20  bb-21  \\\n",
       "date                                                                        \n",
       "2017-08-31   1.35  1.445  1.600   1.56   1.69   1.52   1.82   2.05   2.02   \n",
       "2017-09-30   1.40  1.350  1.445   1.60   1.56   1.69   1.52   1.82   2.05   \n",
       "\n",
       "             cc  cc-01  cc-02  cc-03  cc-04  cc-05  cc-06  cc-07  cc-08  \\\n",
       "date                                                                      \n",
       "2017-08-31  2.2  2.325  2.180   2.29   2.30   2.49   2.42   2.45   2.50   \n",
       "2017-09-30  2.2  2.200  2.325   2.18   2.29   2.30   2.49   2.42   2.45   \n",
       "\n",
       "            cc-09  cc-10  cc-11  cc-12  cc-13  cc-14  cc-15  cc-16  cc-17  \\\n",
       "date                                                                        \n",
       "2017-08-31   2.23   1.76  1.615  1.560   1.52  1.655  1.830   1.79   1.90   \n",
       "2017-09-30   2.50   2.23  1.760  1.615   1.56  1.520  1.655   1.83   1.79   \n",
       "\n",
       "            cc-18  cc-19  cc-20  cc-21    dd  dd-01  dd-02  dd-03  dd-04  \\\n",
       "date                                                                       \n",
       "2017-08-31   1.75   2.07   2.24   2.25  2.55   2.65   2.53   2.68   2.67   \n",
       "2017-09-30   1.90   1.75   2.07   2.24  2.53   2.55   2.65   2.53   2.68   \n",
       "\n",
       "            dd-05  dd-06  dd-07  dd-08  dd-09  dd-10  dd-11  dd-12  dd-13  \\\n",
       "date                                                                        \n",
       "2017-08-31   2.83  2.775  2.770  2.855  2.645  2.170   2.01   1.89   1.83   \n",
       "2017-09-30   2.67  2.830  2.775  2.770  2.855  2.645   2.17   2.01   1.89   \n",
       "\n",
       "            dd-14  dd-15  dd-16  dd-17  dd-18  dd-19  dd-20  dd-21     t  \\\n",
       "date                                                                       \n",
       "2017-08-31  2.025  2.230   2.19   2.28   2.17   2.46   2.60   2.67  2.79   \n",
       "2017-09-30  1.830  2.025   2.23   2.19   2.28   2.17   2.46   2.60  2.78   \n",
       "\n",
       "            t-01   t-02   t-03  t-04  t-05  t-06  t-07  t-08  t-09  t-10  \\\n",
       "date                                                                       \n",
       "2017-08-31  2.89  2.795  2.970  2.96  3.08  3.03  3.04  3.12  2.96  2.50   \n",
       "2017-09-30  2.79  2.890  2.795  2.97  2.96  3.08  3.03  3.04  3.12  2.96   \n",
       "\n",
       "            t-11  t-12  t-13   t-14   t-15  t-16  t-17  t-18  t-19  t-20  \\\n",
       "date                                                                       \n",
       "2017-08-31  2.33  2.26  2.24  2.455  2.640  2.61  2.69  2.61  2.83  2.96   \n",
       "2017-09-30  2.50  2.33  2.26  2.240  2.455  2.64  2.61  2.69  2.61  2.83   \n",
       "\n",
       "             t-21  \n",
       "date               \n",
       "2017-08-31  3.005  \n",
       "2017-09-30  2.960  "
      ]
     },
     "execution_count": 17,
     "metadata": {},
     "output_type": "execute_result"
    }
   ],
   "source": [
    "# review small df window after engineering lagged features/target vector(s)\n",
    "df.iloc[(len(df)-lookforward_window)-2:(len(df)-lookforward_window),:]"
   ]
  },
  {
   "cell_type": "code",
   "execution_count": 18,
   "metadata": {
    "collapsed": true
   },
   "outputs": [],
   "source": [
    "# create df copy for use w/ predictions\n",
    "tail = df.copy()\n",
    "# tail.tail(2)"
   ]
  },
  {
   "cell_type": "code",
   "execution_count": 19,
   "metadata": {
    "collapsed": true
   },
   "outputs": [],
   "source": [
    "# drop NaNs created from lagged feature generation\n",
    "df = df.dropna().copy()"
   ]
  },
  {
   "cell_type": "code",
   "execution_count": 20,
   "metadata": {},
   "outputs": [
    {
     "name": "stdout",
     "output_type": "stream",
     "text": [
      "True\n"
     ]
    }
   ],
   "source": [
    "# missing value check\n",
    "check_null = df.isnull().sum(axis=0).sort_values(ascending=False)/float(len(df))\n",
    "print(np.sum(check_null.values) == 0.0)"
   ]
  },
  {
   "cell_type": "code",
   "execution_count": 21,
   "metadata": {},
   "outputs": [
    {
     "name": "stderr",
     "output_type": "stream",
     "text": [
      "Using TensorFlow backend.\n"
     ]
    }
   ],
   "source": [
    "# load keras/tf models\n",
    "# import keras/tensorflow layers for RNN\n",
    "import math\n",
    "from keras.models import Sequential\n",
    "from keras.layers import LSTM\n",
    "from keras.layers.core import Dense, Activation, Dropout\n",
    "from keras import regularizers"
   ]
  },
  {
   "cell_type": "code",
   "execution_count": 22,
   "metadata": {
    "collapsed": true
   },
   "outputs": [],
   "source": [
    "# set timeseries data\n",
    "data = df.values"
   ]
  },
  {
   "cell_type": "code",
   "execution_count": 23,
   "metadata": {
    "collapsed": true
   },
   "outputs": [],
   "source": [
    "# set boolean parameter | used during preprocessing\n",
    "scale_data = True"
   ]
  },
  {
   "cell_type": "code",
   "execution_count": 24,
   "metadata": {
    "collapsed": true
   },
   "outputs": [],
   "source": [
    "if scale_data == True:\n",
    "    from sklearn.preprocessing import MinMaxScaler\n",
    "    scaler = MinMaxScaler(feature_range=(0, 1))\n",
    "    # (keeping fit_transform as 2 distinct steps)\n",
    "    scaler.fit(data.reshape(-1,1)) #fit data\n",
    "    data = scaler.transform(data) #transform \n",
    "else:\n",
    "    scaler = None"
   ]
  },
  {
   "cell_type": "code",
   "execution_count": 25,
   "metadata": {
    "collapsed": true
   },
   "outputs": [],
   "source": [
    "# rebuild df with scaled data / generate data array\n",
    "col_list = df.columns.values\n",
    "tmp_index_vals = list(df.index.values)\n",
    "df = pd.DataFrame(data)\n",
    "df.columns = col_list\n",
    "df.index = tmp_index_vals"
   ]
  },
  {
   "cell_type": "code",
   "execution_count": 26,
   "metadata": {
    "collapsed": true
   },
   "outputs": [],
   "source": [
    "# df.head(2)"
   ]
  },
  {
   "cell_type": "code",
   "execution_count": 27,
   "metadata": {
    "collapsed": true
   },
   "outputs": [],
   "source": [
    "data = df.values"
   ]
  },
  {
   "cell_type": "code",
   "execution_count": 28,
   "metadata": {
    "collapsed": true
   },
   "outputs": [],
   "source": [
    "# partition data into train/test sets\n",
    "split_pct=0.75\n",
    "train_test_cut_period = int(len(data)*split_pct) #split point\n",
    "train_set = data[:train_test_cut_period].copy()\n",
    "test_set = data[train_test_cut_period:].copy()"
   ]
  },
  {
   "cell_type": "code",
   "execution_count": 29,
   "metadata": {
    "collapsed": true
   },
   "outputs": [],
   "source": [
    "# partition target vector(s) | input vetor(s)\n",
    "X_train = train_set[:,lookforward_window:].copy()\n",
    "y_train = train_set[:,:lookforward_window].copy()\n",
    "\n",
    "X_test = test_set[:,lookforward_window:].copy()\n",
    "y_test = test_set[:,:lookforward_window].copy()\n",
    "\n",
    "# reshape input for ANN\n",
    "X_train = np.reshape(X_train, (X_train.shape[0], 1, X_train.shape[1]))\n",
    "X_test = np.reshape(X_test, (X_test.shape[0], 1, X_test.shape[1]))"
   ]
  },
  {
   "cell_type": "code",
   "execution_count": 30,
   "metadata": {},
   "outputs": [
    {
     "data": {
      "text/plain": [
       "(1, 110)"
      ]
     },
     "execution_count": 30,
     "metadata": {},
     "output_type": "execute_result"
    }
   ],
   "source": [
    "# set input shape for ANN\n",
    "input_shape_param = (X_train.shape[1],X_train.shape[2])\n",
    "input_shape_param"
   ]
  },
  {
   "cell_type": "code",
   "execution_count": 31,
   "metadata": {
    "collapsed": true
   },
   "outputs": [],
   "source": [
    "# define network architecture & compile\n",
    "model = Sequential()\n",
    "model.add(LSTM(layer1_num_neurons_param, input_shape=input_shape_param,return_sequences=False)) #True w/ additional hidden layers\n",
    "model.add(Dropout(dropout_pct_1))\n",
    "model.add(Dense(lookforward_window, kernel_regularizer=regularizers.l2(l2_weight_regularization_param)))\n",
    "model.add(Activation('relu'))\n",
    "model.compile(loss='mse', optimizer='rmsprop')\n",
    "\n",
    "epoch_num = epoch_num_param\n",
    "batch_size_num = batch_size_param"
   ]
  },
  {
   "cell_type": "code",
   "execution_count": 32,
   "metadata": {
    "collapsed": true
   },
   "outputs": [],
   "source": [
    "start_fit = time.time()\n",
    "model_output = model.fit(X_train, y_train, validation_data=(X_test, y_test), epochs=epoch_num, batch_size=batch_size_num, verbose=0)\n",
    "end_fit = time.time()"
   ]
  },
  {
   "cell_type": "code",
   "execution_count": 33,
   "metadata": {},
   "outputs": [
    {
     "name": "stdout",
     "output_type": "stream",
     "text": [
      "0.31306048631668093\n"
     ]
    }
   ],
   "source": [
    "# wall time to train model\n",
    "fit_time = (end_fit - start_fit)\n",
    "print(fit_time/60.0)"
   ]
  },
  {
   "cell_type": "code",
   "execution_count": 34,
   "metadata": {},
   "outputs": [
    {
     "data": {
      "image/png": "[encoded data removed]",
      "text/plain": [
       "<matplotlib.figure.Figure at 0x118da6470>"
      ]
     },
     "metadata": {},
     "output_type": "display_data"
    }
   ],
   "source": [
    "# explore dict output\n",
    "plt.plot(model_output.history['loss'],c='k',linestyle='--')\n",
    "plt.plot(model_output.history['val_loss'],c='purple',linestyle='-')\n",
    "plt.ylim(0,0.02)\n",
    "plt.show;"
   ]
  },
  {
   "cell_type": "code",
   "execution_count": 35,
   "metadata": {},
   "outputs": [
    {
     "name": "stdout",
     "output_type": "stream",
     "text": [
      "(1, 110)\n",
      "(1, 1, 110)\n"
     ]
    }
   ],
   "source": [
    "# isolate last observation | rescale to predict, invert results to view forecast\n",
    "tmp_input = pd.DataFrame(tail.iloc[-1,lookforward_window:]).T.values\n",
    "tmp_input[0] = scaler.transform(tmp_input[0].reshape(-1,1)).reshape(1,-1)\n",
    "print(tmp_input.shape)\n",
    "tmp_input = np.reshape(tmp_input, (tmp_input.shape[0], 1, tmp_input.shape[1]))\n",
    "print(tmp_input.shape)"
   ]
  },
  {
   "cell_type": "code",
   "execution_count": 36,
   "metadata": {
    "collapsed": true
   },
   "outputs": [],
   "source": [
    "pred_vals = list(scaler.inverse_transform(model.predict(tmp_input)).reshape(1,-1)[0])"
   ]
  },
  {
   "cell_type": "code",
   "execution_count": 37,
   "metadata": {
    "scrolled": false
   },
   "outputs": [
    {
     "data": {
      "image/png": "[encoded data removed]",
      "text/plain": [
       "<matplotlib.figure.Figure at 0x119939da0>"
      ]
     },
     "metadata": {},
     "output_type": "display_data"
    }
   ],
   "source": [
    "historical_actual = list(tail[base_col].values)\n",
    "purple_line = []\n",
    "for iter_x in np.arange(len(historical_actual)):\n",
    "    purple_line.append(np.nan)\n",
    "purple_line = historical_actual + pred_vals \n",
    "plt.plot(historical_actual,color='k',linestyle='--',lw=1.25)\n",
    "plt.plot(purple_line, color='purple',lw=2.0,alpha=0.85)\n",
    "plt.plot(historical_actual,color='green',lw=1.75)\n",
    "\n",
    "plt.grid(True)\n",
    "plt.legend(['actual','pred','train'], loc='best')\n",
    "plt.xlim(130)\n",
    "plt.show;"
   ]
  },
  {
   "cell_type": "code",
   "execution_count": 38,
   "metadata": {
    "collapsed": true
   },
   "outputs": [],
   "source": [
    "# make predictions\n",
    "X_train_predict = model.predict(X_train)\n",
    "X_test_predict = model.predict(X_test)\n",
    "# invert predictions\n",
    "X_train_predict_i = scaler.inverse_transform(X_train_predict)\n",
    "y_train_i = scaler.inverse_transform(y_train)\n",
    "X_test_predict_i = scaler.inverse_transform(X_test_predict)\n",
    "y_test_i = scaler.inverse_transform(y_test)"
   ]
  },
  {
   "cell_type": "code",
   "execution_count": 39,
   "metadata": {},
   "outputs": [
    {
     "name": "stdout",
     "output_type": "stream",
     "text": [
      "train_score: 0.2658447025522035\n",
      "test_score: 0.1859552196686718\n"
     ]
    }
   ],
   "source": [
    "# calculate root mean squared error\n",
    "train_score = math.sqrt(mean_squared_error( y_train_i.reshape(1,-1)[0], X_train_predict_i.reshape(1,-1)[0]))\n",
    "print('train_score: {0}'.format(train_score))\n",
    "test_score = math.sqrt(mean_squared_error( y_test_i.reshape(1,-1)[0], X_test_predict_i.reshape(1,-1)[0]))\n",
    "print('test_score: {0}'.format(test_score))"
   ]
  },
  {
   "cell_type": "code",
   "execution_count": 40,
   "metadata": {},
   "outputs": [
    {
     "data": {
      "image/png": "[encoded data removed]",
      "text/plain": [
       "<matplotlib.figure.Figure at 0x119437a20>"
      ]
     },
     "metadata": {},
     "output_type": "display_data"
    }
   ],
   "source": [
    "# spot checking prediction pattern (ideally linear)\n",
    "xxx = scaler.inverse_transform(y_test.reshape(-1,1)).reshape(1,-1)[0]\n",
    "yyy = scaler.inverse_transform(model.predict(X_test)).reshape(1,-1)[0]\n",
    "max_show = yyy.max() + yyy.max()*.10\n",
    "plt.plot([0, max_show], [0, max_show], c='k', lw=1.0, linestyle='--', alpha=0.75)\n",
    "plt.scatter(xxx, yyy, s=180, facecolors='none', edgecolors='purple',lw=1.5)\n",
    "plt_min = min(np.min(xxx),np.min(yyy))\n",
    "plt_max = max(np.max(xxx),np.max(yyy))\n",
    "plt.xlim(plt_min*.97,plt_max*1.02)\n",
    "plt.ylim(plt_min*.97,plt_max*1.02)\n",
    "plt.show()"
   ]
  },
  {
   "cell_type": "markdown",
   "metadata": {},
   "source": [
    "#### plot line graph"
   ]
  },
  {
   "cell_type": "code",
   "execution_count": 41,
   "metadata": {
    "collapsed": true
   },
   "outputs": [],
   "source": [
    "data = df[base_col].values\n",
    "data = scaler.inverse_transform(data.reshape(-1,1)).reshape(1,-1)[0]\n",
    "training_split_cut = int(split_pct*len(df))"
   ]
  },
  {
   "cell_type": "code",
   "execution_count": 42,
   "metadata": {
    "collapsed": true
   },
   "outputs": [],
   "source": [
    "green_line = data[:training_split_cut]\n",
    "purple_line = []\n",
    "for iter_x in np.arange(training_split_cut):\n",
    "    purple_line.append(np.nan)\n",
    "purple_line = purple_line + list(X_test_predict_i[:,0])    "
   ]
  },
  {
   "cell_type": "code",
   "execution_count": 43,
   "metadata": {},
   "outputs": [
    {
     "data": {
      "text/plain": [
       "<matplotlib.legend.Legend at 0x119640588>"
      ]
     },
     "execution_count": 43,
     "metadata": {},
     "output_type": "execute_result"
    },
    {
     "data": {
      "image/png": "[encoded data removed]",
      "text/plain": [
       "<matplotlib.figure.Figure at 0x10d719630>"
      ]
     },
     "metadata": {},
     "output_type": "display_data"
    }
   ],
   "source": [
    "plt.plot(data,color='k',linestyle='--',lw=1.25)\n",
    "plt.plot(purple_line, color='purple',lw=2.0,alpha=0.85)\n",
    "plt.plot(green_line,color='green',lw=1.75)\n",
    "\n",
    "plt.grid(True)\n",
    "plt.legend(['actual','pred','train'], loc='best')\n",
    "# plt.xlim(385,615)"
   ]
  },
  {
   "cell_type": "code",
   "execution_count": null,
   "metadata": {
    "collapsed": true
   },
   "outputs": [],
   "source": []
  }
 ],
 "metadata": {
  "kernelspec": {
   "display_name": "tensorflow",
   "language": "python",
   "name": "tensorflow"
  },
  "language_info": {
   "codemirror_mode": {
    "name": "ipython",
    "version": 3
   },
   "file_extension": ".py",
   "mimetype": "text/x-python",
   "name": "python",
   "nbconvert_exporter": "python",
   "pygments_lexer": "ipython3",
   "version": "3.6.1"
  }
 },
 "nbformat": 4,
 "nbformat_minor": 2
}
